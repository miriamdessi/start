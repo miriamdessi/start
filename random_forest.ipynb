{
 "cells": [
  {
   "cell_type": "code",
   "execution_count": 1,
   "metadata": {},
   "outputs": [
    {
     "name": "stderr",
     "output_type": "stream",
     "text": [
      "C:\\ProgramData\\Anaconda3\\lib\\site-packages\\sklearn\\ensemble\\weight_boosting.py:29: DeprecationWarning: numpy.core.umath_tests is an internal NumPy module and should not be imported. It will be removed in a future NumPy release.\n",
      "  from numpy.core.umath_tests import inner1d\n"
     ]
    }
   ],
   "source": [
    "import matplotlib.pyplot as plt\n",
    "import pandas as pd\n",
    "import numpy as np\n",
    "from collections import Counter\n",
    "\n",
    "%matplotlib inline\n",
    "from sklearn import model_selection, metrics,preprocessing\n",
    "from sklearn.metrics import f1_score, r2_score, classification_report, confusion_matrix\n",
    "from sklearn.ensemble import RandomForestClassifier\n",
    "from sklearn.datasets import make_classification\n",
    "from sklearn.preprocessing import StandardScaler\n",
    "from imblearn.over_sampling import SMOTE\n",
    "import seaborn as sns\n",
    "from sklearn.externals import joblib\n",
    "import itertools"
   ]
  },
  {
   "cell_type": "code",
   "execution_count": 2,
   "metadata": {},
   "outputs": [],
   "source": [
    "df = pd.read_csv('../../Progetto/metadata/segugio_X.csv', low_memory=False)"
   ]
  },
  {
   "cell_type": "code",
   "execution_count": 118,
   "metadata": {},
   "outputs": [
    {
     "data": {
      "text/plain": [
       "0.005424257040032649"
      ]
     },
     "execution_count": 118,
     "metadata": {},
     "output_type": "execute_result"
    }
   ],
   "source": [
    "sum(df['labels']==1)/sum(df['labels']==0)"
   ]
  },
  {
   "cell_type": "code",
   "execution_count": 4,
   "metadata": {},
   "outputs": [],
   "source": [
    "df_nan_values=pd.isnull(df).sum()\n",
    "df_nan_values.where(df_nan_values>121496).dropna()\n",
    "df.fillna(-1000, inplace=True)\n",
    "df.replace('None', -1000, inplace=True)"
   ]
  },
  {
   "cell_type": "code",
   "execution_count": 4,
   "metadata": {},
   "outputs": [
    {
     "data": {
      "text/plain": [
       "['codice_ruolo_x',\n",
       " 'latitudine_nascita_x',\n",
       " 'longitudine_nascita_x',\n",
       " 'codice_provincia_nascita_x',\n",
       " 'codice_nazione_x',\n",
       " 'len_codice_identificativo_x',\n",
       " 'codice_stato_civile_x',\n",
       " 'codice_sesso_x',\n",
       " 'codice_professione_x',\n",
       " 'data_nascita_x',\n",
       " 'codice_titolo_studio_x',\n",
       " 'latitudine_residenza_x',\n",
       " 'longitudine_residenza_x',\n",
       " 'codice_provincia_residenza_x',\n",
       " 'data_rilascio_patente_x',\n",
       " 'codice_ruolo_y',\n",
       " 'latitudine_nascita_y',\n",
       " 'longitudine_nascita_y',\n",
       " 'codice_provincia_nascita_y',\n",
       " 'codice_nazione_y',\n",
       " 'len_codice_identificativo_y',\n",
       " 'codice_stato_civile_y',\n",
       " 'codice_sesso_y',\n",
       " 'codice_professione_y',\n",
       " 'data_nascita_y',\n",
       " 'codice_titolo_studio_y',\n",
       " 'latitudine_residenza_y',\n",
       " 'longitudine_residenza_y',\n",
       " 'codice_provincia_residenza_y',\n",
       " 'data_rilascio_patente_y',\n",
       " 'data_scadenza_contratto',\n",
       " 'codice_compagnia_assicurazione_provenienza',\n",
       " 'indicatore_classe_agevolata',\n",
       " 'nuova_immatricolazione',\n",
       " 'codice_tipo_targa',\n",
       " 'codice_nazione_targa',\n",
       " 'codice_marca',\n",
       " 'codice_modello',\n",
       " 'codice_allestimento',\n",
       " 'data_immatricolazione',\n",
       " 'data_ultima_voltura',\n",
       " 'codice_tipo_alimentazione',\n",
       " 'numero_potenza_kw',\n",
       " 'numero_cilindrata',\n",
       " 'importo_valore_assicurato',\n",
       " 'codice_tipo_antifurto',\n",
       " 'codice_ricovero_veicolo',\n",
       " 'codice_uso_principale_veicolo',\n",
       " 'indicatore_gancio_traino',\n",
       " 'indicatore_presenza_airbag',\n",
       " 'indicatore_veicolo_storico',\n",
       " 'numero_chilometri_medi_annui',\n",
       " 'codice_descrizione_garanzia',\n",
       " 'codice_pacchetto_stampa_clausole',\n",
       " 'indicatore_clausola_scelta_146',\n",
       " 'indicatore_clausola_scelta_23',\n",
       " 'indicatore_clausola_scelta_3055',\n",
       " 'indicatore_clausola_scelta_3679',\n",
       " 'indicatore_clausola_scelta_3680',\n",
       " 'indicatore_clausola_scelta_39',\n",
       " 'indicatore_clausola_scelta_9025',\n",
       " 'codice_pacchetto_clausola_146',\n",
       " 'codice_pacchetto_clausola_23',\n",
       " 'codice_pacchetto_clausola_3055',\n",
       " 'codice_pacchetto_clausola_3679',\n",
       " 'codice_pacchetto_clausola_3680',\n",
       " 'codice_pacchetto_clausola_39',\n",
       " 'codice_pacchetto_clausola_9025',\n",
       " '1',\n",
       " '19',\n",
       " '42',\n",
       " '5E',\n",
       " '5L',\n",
       " '5M',\n",
       " '5N',\n",
       " '8J',\n",
       " '8K',\n",
       " '8P',\n",
       " 'X4',\n",
       " '13',\n",
       " '3058',\n",
       " '3059',\n",
       " '3060',\n",
       " '3063',\n",
       " '3068',\n",
       " '3591',\n",
       " '3592',\n",
       " '3794',\n",
       " '50',\n",
       " '57',\n",
       " '01/02/2018',\n",
       " '01/08/2017',\n",
       " '01/08/2018',\n",
       " 'data_edizione_tariffa_utilizzata',\n",
       " 'codice_classe_merito_interna',\n",
       " 'codice_classe_merito_esterna',\n",
       " 'importo_premio_cvt',\n",
       " 'importo_premio_rca',\n",
       " 'importo_premio_netto_annuo',\n",
       " 'importo_imposte',\n",
       " 'importo_antiracket',\n",
       " 'importo_ssn',\n",
       " 'importo_premio_lordo_annuo',\n",
       " 'percentuale_sconto_prezzo_base',\n",
       " 'percentuale_sconto_applicato',\n",
       " 'data_inizio_edizione_sconto',\n",
       " 'importo_massimale_cose',\n",
       " 'importo_massimale_persone',\n",
       " 'percentuale_sconto_aggregatore',\n",
       " 'numero_incidenti',\n",
       " 'distanza_ultimo_sinistro',\n",
       " 'neo_assicurato',\n",
       " 'numero_anni_NA',\n",
       " 'data_ora_inserimento_preventivo',\n",
       " 'data_emissione',\n",
       " 'data_decorrenza',\n",
       " 'data_scadenza',\n",
       " 'codice_sconto_nodo',\n",
       " 'indicatore_guidaesperta',\n",
       " 'conto_preventivi',\n",
       " 'labels']"
      ]
     },
     "execution_count": 4,
     "metadata": {},
     "output_type": "execute_result"
    }
   ],
   "source": [
    "df.columns.values.tolist()"
   ]
  },
  {
   "cell_type": "code",
   "execution_count": 5,
   "metadata": {},
   "outputs": [
    {
     "name": "stdout",
     "output_type": "stream",
     "text": [
      "(135496, 44)\n"
     ]
    }
   ],
   "source": [
    "df_categorical=df[{\"codice_titolo_studio_x\",\"codice_titolo_studio_y\",\"codice_tipo_alimentazione\",\"codice_tipo_targa\",\"len_codice_identificativo_x\",\"len_codice_identificativo_y\",\"01/02/2018\",\"01/08/2018\",\"codice_ricovero_veicolo\",\"codice_tipo_antifurto\",\"codice_uso_principale_veicolo\",\"distanza_ultimo_sinistro\",\"indicatore_guidaesperta\",\"neo_assicurato\",\"codice_ruolo_x\",\"codice_tipo_targa\",\"indicatore_classe_agevolata\",\"nuova_immatricolazione\",\"13\",\"19\",\"3058\",\"3059\",\"3060\",\"3063\",\"3068\",\"3591\",\"3592\",\"3794\",\"42\",\"57\",\"5E\",\"5L\",\"5M\",\"5N\",\"8J\",\"8K\",\"8P\",\"X4\",\"indicatore_clausola_scelta_3679\",\"codice_sesso_x\",\"codice_sesso_y\",\"codice_stato_civile_x\",\"codice_stato_civile_y\",\"codice_ruolo_x\",\"codice_ruolo_y\",\"data_inizio_edizione_sconto\"}]\n",
    "print(df_categorical.shape)"
   ]
  },
  {
   "cell_type": "code",
   "execution_count": 6,
   "metadata": {},
   "outputs": [],
   "source": [
    "def normalize(df):\n",
    "    x = df.values #returns a numpy array\n",
    "    standard_scaler = preprocessing.StandardScaler()\n",
    "    x_scaled = standard_scaler.fit_transform(x)\n",
    "    df_norm = pd.DataFrame(x_scaled)\n",
    "    df_norm.columns = df.columns\n",
    "    return df_norm"
   ]
  },
  {
   "cell_type": "code",
   "execution_count": 7,
   "metadata": {},
   "outputs": [],
   "source": [
    "df_norm = normalize(df)"
   ]
  },
  {
   "cell_type": "code",
   "execution_count": 9,
   "metadata": {},
   "outputs": [],
   "source": [
    "y=df['labels'].values\n",
    "only_features=df.drop([\"labels\"],axis=1)\n",
    "X=only_features.values"
   ]
  },
  {
   "cell_type": "code",
   "execution_count": 10,
   "metadata": {},
   "outputs": [
    {
     "name": "stdout",
     "output_type": "stream",
     "text": [
      "(135496, 96)\n"
     ]
    }
   ],
   "source": [
    "x_scaled = df_norm.values\n",
    "from sklearn.feature_selection import VarianceThreshold\n",
    "sel = VarianceThreshold()\n",
    "X_new = sel.fit_transform(X)\n",
    "\n",
    "print (X_new.shape)\n",
    "mask = sel.get_support() \n",
    "new_features = [] \n",
    "\n",
    "for bool, feature in zip(mask, df.columns):\n",
    "    if bool:\n",
    "        new_features.append(feature)\n"
   ]
  },
  {
   "cell_type": "code",
   "execution_count": 11,
   "metadata": {},
   "outputs": [],
   "source": [
    "df_var_1 = pd.DataFrame(X_new,columns=new_features)\n",
    "df_var_1['labels'] = df['labels']"
   ]
  },
  {
   "cell_type": "code",
   "execution_count": 12,
   "metadata": {},
   "outputs": [],
   "source": [
    "y_2=df_var_1['labels'].values\n",
    "only_features_2=df_var_1.drop([\"labels\"],axis=1)\n",
    "X_2=only_features_2.values\n"
   ]
  },
  {
   "cell_type": "code",
   "execution_count": 13,
   "metadata": {},
   "outputs": [
    {
     "name": "stdout",
     "output_type": "stream",
     "text": [
      "(135496, 72)\n"
     ]
    }
   ],
   "source": [
    "sel = VarianceThreshold(threshold=0.1)\n",
    "X_new = sel.fit_transform(X_2)\n",
    "\n",
    "print (X_new.shape)\n",
    "mask = sel.get_support() \n",
    "new_features = [] \n",
    "\n",
    "for bool, feature in zip(mask, df_var_1.columns):\n",
    "    if bool:\n",
    "        new_features.append(feature)"
   ]
  },
  {
   "cell_type": "code",
   "execution_count": 14,
   "metadata": {},
   "outputs": [
    {
     "name": "stdout",
     "output_type": "stream",
     "text": [
      "(135496, 73)\n"
     ]
    },
    {
     "data": {
      "text/html": [
       "<div>\n",
       "<style scoped>\n",
       "    .dataframe tbody tr th:only-of-type {\n",
       "        vertical-align: middle;\n",
       "    }\n",
       "\n",
       "    .dataframe tbody tr th {\n",
       "        vertical-align: top;\n",
       "    }\n",
       "\n",
       "    .dataframe thead th {\n",
       "        text-align: right;\n",
       "    }\n",
       "</style>\n",
       "<table border=\"1\" class=\"dataframe\">\n",
       "  <thead>\n",
       "    <tr style=\"text-align: right;\">\n",
       "      <th></th>\n",
       "      <th>latitudine_nascita_x</th>\n",
       "      <th>longitudine_nascita_x</th>\n",
       "      <th>codice_provincia_nascita_x</th>\n",
       "      <th>codice_nazione_x</th>\n",
       "      <th>len_codice_identificativo_x</th>\n",
       "      <th>codice_stato_civile_x</th>\n",
       "      <th>codice_sesso_x</th>\n",
       "      <th>codice_professione_x</th>\n",
       "      <th>data_nascita_x</th>\n",
       "      <th>codice_titolo_studio_x</th>\n",
       "      <th>...</th>\n",
       "      <th>neo_assicurato</th>\n",
       "      <th>numero_anni_NA</th>\n",
       "      <th>data_ora_inserimento_preventivo</th>\n",
       "      <th>data_emissione</th>\n",
       "      <th>data_decorrenza</th>\n",
       "      <th>data_scadenza</th>\n",
       "      <th>codice_sconto_nodo</th>\n",
       "      <th>indicatore_guidaesperta</th>\n",
       "      <th>conto_preventivi</th>\n",
       "      <th>labels</th>\n",
       "    </tr>\n",
       "  </thead>\n",
       "  <tbody>\n",
       "    <tr>\n",
       "      <th>0</th>\n",
       "      <td>44.663266</td>\n",
       "      <td>10.883767</td>\n",
       "      <td>57.0</td>\n",
       "      <td>67.0</td>\n",
       "      <td>16.0</td>\n",
       "      <td>5.0</td>\n",
       "      <td>0.0</td>\n",
       "      <td>10.0</td>\n",
       "      <td>635.0</td>\n",
       "      <td>5.0</td>\n",
       "      <td>...</td>\n",
       "      <td>1.0</td>\n",
       "      <td>2.0</td>\n",
       "      <td>154.0</td>\n",
       "      <td>342.0</td>\n",
       "      <td>211.0</td>\n",
       "      <td>-154.0</td>\n",
       "      <td>549148.0</td>\n",
       "      <td>1.0</td>\n",
       "      <td>1.0</td>\n",
       "      <td>0</td>\n",
       "    </tr>\n",
       "    <tr>\n",
       "      <th>1</th>\n",
       "      <td>45.064440</td>\n",
       "      <td>7.687378</td>\n",
       "      <td>97.0</td>\n",
       "      <td>67.0</td>\n",
       "      <td>16.0</td>\n",
       "      <td>5.0</td>\n",
       "      <td>0.0</td>\n",
       "      <td>137.0</td>\n",
       "      <td>534.0</td>\n",
       "      <td>3.0</td>\n",
       "      <td>...</td>\n",
       "      <td>0.0</td>\n",
       "      <td>0.0</td>\n",
       "      <td>154.0</td>\n",
       "      <td>342.0</td>\n",
       "      <td>241.0</td>\n",
       "      <td>-124.0</td>\n",
       "      <td>691.0</td>\n",
       "      <td>1.0</td>\n",
       "      <td>1.0</td>\n",
       "      <td>0</td>\n",
       "    </tr>\n",
       "    <tr>\n",
       "      <th>2</th>\n",
       "      <td>40.877993</td>\n",
       "      <td>14.275841</td>\n",
       "      <td>-1000.0</td>\n",
       "      <td>67.0</td>\n",
       "      <td>16.0</td>\n",
       "      <td>6.0</td>\n",
       "      <td>0.0</td>\n",
       "      <td>1.0</td>\n",
       "      <td>510.0</td>\n",
       "      <td>3.0</td>\n",
       "      <td>...</td>\n",
       "      <td>0.0</td>\n",
       "      <td>0.0</td>\n",
       "      <td>154.0</td>\n",
       "      <td>342.0</td>\n",
       "      <td>226.0</td>\n",
       "      <td>-139.0</td>\n",
       "      <td>311871.0</td>\n",
       "      <td>1.0</td>\n",
       "      <td>1.0</td>\n",
       "      <td>0</td>\n",
       "    </tr>\n",
       "    <tr>\n",
       "      <th>3</th>\n",
       "      <td>46.000000</td>\n",
       "      <td>25.000000</td>\n",
       "      <td>31.0</td>\n",
       "      <td>111.0</td>\n",
       "      <td>16.0</td>\n",
       "      <td>2.0</td>\n",
       "      <td>1.0</td>\n",
       "      <td>1.0</td>\n",
       "      <td>519.0</td>\n",
       "      <td>2.0</td>\n",
       "      <td>...</td>\n",
       "      <td>0.0</td>\n",
       "      <td>0.0</td>\n",
       "      <td>154.0</td>\n",
       "      <td>342.0</td>\n",
       "      <td>225.0</td>\n",
       "      <td>-140.0</td>\n",
       "      <td>30779.0</td>\n",
       "      <td>1.0</td>\n",
       "      <td>1.0</td>\n",
       "      <td>0</td>\n",
       "    </tr>\n",
       "    <tr>\n",
       "      <th>4</th>\n",
       "      <td>41.562164</td>\n",
       "      <td>14.658943</td>\n",
       "      <td>20.0</td>\n",
       "      <td>67.0</td>\n",
       "      <td>16.0</td>\n",
       "      <td>6.0</td>\n",
       "      <td>0.0</td>\n",
       "      <td>1.0</td>\n",
       "      <td>296.0</td>\n",
       "      <td>3.0</td>\n",
       "      <td>...</td>\n",
       "      <td>1.0</td>\n",
       "      <td>2.0</td>\n",
       "      <td>154.0</td>\n",
       "      <td>342.0</td>\n",
       "      <td>226.0</td>\n",
       "      <td>-139.0</td>\n",
       "      <td>1185.0</td>\n",
       "      <td>0.0</td>\n",
       "      <td>1.0</td>\n",
       "      <td>0</td>\n",
       "    </tr>\n",
       "  </tbody>\n",
       "</table>\n",
       "<p>5 rows × 73 columns</p>\n",
       "</div>"
      ],
      "text/plain": [
       "   latitudine_nascita_x  longitudine_nascita_x  codice_provincia_nascita_x  \\\n",
       "0             44.663266              10.883767                        57.0   \n",
       "1             45.064440               7.687378                        97.0   \n",
       "2             40.877993              14.275841                     -1000.0   \n",
       "3             46.000000              25.000000                        31.0   \n",
       "4             41.562164              14.658943                        20.0   \n",
       "\n",
       "   codice_nazione_x  len_codice_identificativo_x  codice_stato_civile_x  \\\n",
       "0              67.0                         16.0                    5.0   \n",
       "1              67.0                         16.0                    5.0   \n",
       "2              67.0                         16.0                    6.0   \n",
       "3             111.0                         16.0                    2.0   \n",
       "4              67.0                         16.0                    6.0   \n",
       "\n",
       "   codice_sesso_x  codice_professione_x  data_nascita_x  \\\n",
       "0             0.0                  10.0           635.0   \n",
       "1             0.0                 137.0           534.0   \n",
       "2             0.0                   1.0           510.0   \n",
       "3             1.0                   1.0           519.0   \n",
       "4             0.0                   1.0           296.0   \n",
       "\n",
       "   codice_titolo_studio_x  ...  neo_assicurato  numero_anni_NA  \\\n",
       "0                     5.0  ...             1.0             2.0   \n",
       "1                     3.0  ...             0.0             0.0   \n",
       "2                     3.0  ...             0.0             0.0   \n",
       "3                     2.0  ...             0.0             0.0   \n",
       "4                     3.0  ...             1.0             2.0   \n",
       "\n",
       "   data_ora_inserimento_preventivo  data_emissione  data_decorrenza  \\\n",
       "0                            154.0           342.0            211.0   \n",
       "1                            154.0           342.0            241.0   \n",
       "2                            154.0           342.0            226.0   \n",
       "3                            154.0           342.0            225.0   \n",
       "4                            154.0           342.0            226.0   \n",
       "\n",
       "   data_scadenza  codice_sconto_nodo  indicatore_guidaesperta  \\\n",
       "0         -154.0            549148.0                      1.0   \n",
       "1         -124.0               691.0                      1.0   \n",
       "2         -139.0            311871.0                      1.0   \n",
       "3         -140.0             30779.0                      1.0   \n",
       "4         -139.0              1185.0                      0.0   \n",
       "\n",
       "   conto_preventivi  labels  \n",
       "0               1.0       0  \n",
       "1               1.0       0  \n",
       "2               1.0       0  \n",
       "3               1.0       0  \n",
       "4               1.0       0  \n",
       "\n",
       "[5 rows x 73 columns]"
      ]
     },
     "execution_count": 14,
     "metadata": {},
     "output_type": "execute_result"
    }
   ],
   "source": [
    "df_var_2 = pd.DataFrame(X_new,columns=new_features)\n",
    "df_var_2['labels'] = df_var_1['labels']\n",
    "#df_var = df[new_features].copy()\n",
    "print (df_var_2.shape)\n",
    "df_var_2.head()"
   ]
  },
  {
   "cell_type": "code",
   "execution_count": 15,
   "metadata": {},
   "outputs": [],
   "source": [
    "columns_low_var_2=[]\n",
    "columns_high_var_2=[]\n",
    "columns_high_var_2=df_var_2.columns.values.tolist()\n",
    "df_low_var_2=df_var_1.drop(columns_high_var_2,axis=1)"
   ]
  },
  {
   "cell_type": "code",
   "execution_count": 16,
   "metadata": {},
   "outputs": [],
   "source": [
    "columns_low_var_2=[]\n",
    "columns_low_var_2=df_low_var_2.columns.values.tolist()\n",
    "columns_categorical=[]\n",
    "columns_categorical=df_categorical.columns.values.tolist()\n"
   ]
  },
  {
   "cell_type": "code",
   "execution_count": 17,
   "metadata": {},
   "outputs": [
    {
     "name": "stdout",
     "output_type": "stream",
     "text": [
      "indicatore_presenza_airbag not found\n",
      "01/08/2017 not found\n"
     ]
    }
   ],
   "source": [
    "for col in columns_low_var_2:\n",
    "    if(col not in columns_categorical):\n",
    "        print(col,\"not found\")\n",
    "        columns_categorical.append(col)\n",
    "    \n",
    "  "
   ]
  },
  {
   "cell_type": "code",
   "execution_count": 18,
   "metadata": {},
   "outputs": [
    {
     "name": "stdout",
     "output_type": "stream",
     "text": [
      "len_codice_identificativo_x found\n",
      "indicatore_guidaesperta found\n",
      "codice_tipo_targa found\n",
      "codice_ricovero_veicolo found\n",
      "distanza_ultimo_sinistro found\n",
      "codice_stato_civile_y found\n",
      "codice_uso_principale_veicolo found\n",
      "codice_sesso_y found\n",
      "codice_stato_civile_x found\n",
      "indicatore_clausola_scelta_3679 found\n",
      "codice_ruolo_y found\n",
      "indicatore_classe_agevolata found\n",
      "codice_sesso_x found\n",
      "01/08/2018 found\n",
      "01/02/2018 found\n",
      "codice_titolo_studio_y found\n",
      "codice_tipo_antifurto found\n",
      "neo_assicurato found\n",
      "data_inizio_edizione_sconto found\n",
      "codice_titolo_studio_x found\n",
      "codice_tipo_alimentazione found\n",
      "len_codice_identificativo_y found\n"
     ]
    }
   ],
   "source": [
    "columns_var_2=df_var_2.columns.values.tolist()\n",
    "for col in columns_categorical:\n",
    "    if(col in columns_var_2):\n",
    "        print(col,\"found\")\n",
    "        columns_var_2.remove(col)"
   ]
  },
  {
   "cell_type": "code",
   "execution_count": 19,
   "metadata": {},
   "outputs": [
    {
     "data": {
      "text/html": [
       "<div>\n",
       "<style scoped>\n",
       "    .dataframe tbody tr th:only-of-type {\n",
       "        vertical-align: middle;\n",
       "    }\n",
       "\n",
       "    .dataframe tbody tr th {\n",
       "        vertical-align: top;\n",
       "    }\n",
       "\n",
       "    .dataframe thead th {\n",
       "        text-align: right;\n",
       "    }\n",
       "</style>\n",
       "<table border=\"1\" class=\"dataframe\">\n",
       "  <thead>\n",
       "    <tr style=\"text-align: right;\">\n",
       "      <th></th>\n",
       "      <th>latitudine_nascita_x</th>\n",
       "      <th>longitudine_nascita_x</th>\n",
       "      <th>codice_provincia_nascita_x</th>\n",
       "      <th>codice_nazione_x</th>\n",
       "      <th>codice_professione_x</th>\n",
       "      <th>data_nascita_x</th>\n",
       "      <th>latitudine_residenza_x</th>\n",
       "      <th>longitudine_residenza_x</th>\n",
       "      <th>codice_provincia_residenza_x</th>\n",
       "      <th>data_rilascio_patente_x</th>\n",
       "      <th>...</th>\n",
       "      <th>percentuale_sconto_applicato</th>\n",
       "      <th>percentuale_sconto_aggregatore</th>\n",
       "      <th>numero_incidenti</th>\n",
       "      <th>numero_anni_NA</th>\n",
       "      <th>data_ora_inserimento_preventivo</th>\n",
       "      <th>data_emissione</th>\n",
       "      <th>data_decorrenza</th>\n",
       "      <th>data_scadenza</th>\n",
       "      <th>codice_sconto_nodo</th>\n",
       "      <th>conto_preventivi</th>\n",
       "    </tr>\n",
       "  </thead>\n",
       "  <tbody>\n",
       "    <tr>\n",
       "      <th>0</th>\n",
       "      <td>44.663266</td>\n",
       "      <td>10.883767</td>\n",
       "      <td>57.0</td>\n",
       "      <td>67.0</td>\n",
       "      <td>10.0</td>\n",
       "      <td>635.0</td>\n",
       "      <td>39.256404</td>\n",
       "      <td>9.159333</td>\n",
       "      <td>19.0</td>\n",
       "      <td>409.0</td>\n",
       "      <td>...</td>\n",
       "      <td>-1000.0</td>\n",
       "      <td>35.00000</td>\n",
       "      <td>0.0</td>\n",
       "      <td>2.0</td>\n",
       "      <td>154.0</td>\n",
       "      <td>342.0</td>\n",
       "      <td>211.0</td>\n",
       "      <td>-154.0</td>\n",
       "      <td>549148.0</td>\n",
       "      <td>1</td>\n",
       "    </tr>\n",
       "    <tr>\n",
       "      <th>1</th>\n",
       "      <td>45.064440</td>\n",
       "      <td>7.687378</td>\n",
       "      <td>97.0</td>\n",
       "      <td>67.0</td>\n",
       "      <td>137.0</td>\n",
       "      <td>534.0</td>\n",
       "      <td>45.064440</td>\n",
       "      <td>7.687378</td>\n",
       "      <td>97.0</td>\n",
       "      <td>313.0</td>\n",
       "      <td>...</td>\n",
       "      <td>-1000.0</td>\n",
       "      <td>24.64840</td>\n",
       "      <td>0.0</td>\n",
       "      <td>0.0</td>\n",
       "      <td>154.0</td>\n",
       "      <td>342.0</td>\n",
       "      <td>241.0</td>\n",
       "      <td>-124.0</td>\n",
       "      <td>691.0</td>\n",
       "      <td>1</td>\n",
       "    </tr>\n",
       "    <tr>\n",
       "      <th>2</th>\n",
       "      <td>40.877993</td>\n",
       "      <td>14.275841</td>\n",
       "      <td>-1000.0</td>\n",
       "      <td>67.0</td>\n",
       "      <td>1.0</td>\n",
       "      <td>510.0</td>\n",
       "      <td>45.640205</td>\n",
       "      <td>9.467236</td>\n",
       "      <td>52.0</td>\n",
       "      <td>289.0</td>\n",
       "      <td>...</td>\n",
       "      <td>-1000.0</td>\n",
       "      <td>17.82571</td>\n",
       "      <td>0.0</td>\n",
       "      <td>0.0</td>\n",
       "      <td>154.0</td>\n",
       "      <td>342.0</td>\n",
       "      <td>226.0</td>\n",
       "      <td>-139.0</td>\n",
       "      <td>311871.0</td>\n",
       "      <td>1</td>\n",
       "    </tr>\n",
       "    <tr>\n",
       "      <th>3</th>\n",
       "      <td>46.000000</td>\n",
       "      <td>25.000000</td>\n",
       "      <td>31.0</td>\n",
       "      <td>111.0</td>\n",
       "      <td>1.0</td>\n",
       "      <td>519.0</td>\n",
       "      <td>45.493105</td>\n",
       "      <td>9.329438</td>\n",
       "      <td>55.0</td>\n",
       "      <td>289.0</td>\n",
       "      <td>...</td>\n",
       "      <td>-1000.0</td>\n",
       "      <td>34.45425</td>\n",
       "      <td>0.0</td>\n",
       "      <td>0.0</td>\n",
       "      <td>154.0</td>\n",
       "      <td>342.0</td>\n",
       "      <td>225.0</td>\n",
       "      <td>-140.0</td>\n",
       "      <td>30779.0</td>\n",
       "      <td>1</td>\n",
       "    </tr>\n",
       "    <tr>\n",
       "      <th>4</th>\n",
       "      <td>41.562164</td>\n",
       "      <td>14.658943</td>\n",
       "      <td>20.0</td>\n",
       "      <td>67.0</td>\n",
       "      <td>1.0</td>\n",
       "      <td>296.0</td>\n",
       "      <td>44.685404</td>\n",
       "      <td>10.668794</td>\n",
       "      <td>81.0</td>\n",
       "      <td>61.0</td>\n",
       "      <td>...</td>\n",
       "      <td>-1000.0</td>\n",
       "      <td>33.61130</td>\n",
       "      <td>0.0</td>\n",
       "      <td>2.0</td>\n",
       "      <td>154.0</td>\n",
       "      <td>342.0</td>\n",
       "      <td>226.0</td>\n",
       "      <td>-139.0</td>\n",
       "      <td>1185.0</td>\n",
       "      <td>1</td>\n",
       "    </tr>\n",
       "  </tbody>\n",
       "</table>\n",
       "<p>5 rows × 50 columns</p>\n",
       "</div>"
      ],
      "text/plain": [
       "   latitudine_nascita_x  longitudine_nascita_x  codice_provincia_nascita_x  \\\n",
       "0             44.663266              10.883767                        57.0   \n",
       "1             45.064440               7.687378                        97.0   \n",
       "2             40.877993              14.275841                     -1000.0   \n",
       "3             46.000000              25.000000                        31.0   \n",
       "4             41.562164              14.658943                        20.0   \n",
       "\n",
       "   codice_nazione_x  codice_professione_x  data_nascita_x  \\\n",
       "0              67.0                  10.0           635.0   \n",
       "1              67.0                 137.0           534.0   \n",
       "2              67.0                   1.0           510.0   \n",
       "3             111.0                   1.0           519.0   \n",
       "4              67.0                   1.0           296.0   \n",
       "\n",
       "   latitudine_residenza_x  longitudine_residenza_x  \\\n",
       "0               39.256404                 9.159333   \n",
       "1               45.064440                 7.687378   \n",
       "2               45.640205                 9.467236   \n",
       "3               45.493105                 9.329438   \n",
       "4               44.685404                10.668794   \n",
       "\n",
       "   codice_provincia_residenza_x  data_rilascio_patente_x  ...  \\\n",
       "0                          19.0                    409.0  ...   \n",
       "1                          97.0                    313.0  ...   \n",
       "2                          52.0                    289.0  ...   \n",
       "3                          55.0                    289.0  ...   \n",
       "4                          81.0                     61.0  ...   \n",
       "\n",
       "   percentuale_sconto_applicato  percentuale_sconto_aggregatore  \\\n",
       "0                       -1000.0                        35.00000   \n",
       "1                       -1000.0                        24.64840   \n",
       "2                       -1000.0                        17.82571   \n",
       "3                       -1000.0                        34.45425   \n",
       "4                       -1000.0                        33.61130   \n",
       "\n",
       "   numero_incidenti  numero_anni_NA  data_ora_inserimento_preventivo  \\\n",
       "0               0.0             2.0                            154.0   \n",
       "1               0.0             0.0                            154.0   \n",
       "2               0.0             0.0                            154.0   \n",
       "3               0.0             0.0                            154.0   \n",
       "4               0.0             2.0                            154.0   \n",
       "\n",
       "   data_emissione  data_decorrenza  data_scadenza  codice_sconto_nodo  \\\n",
       "0           342.0            211.0         -154.0            549148.0   \n",
       "1           342.0            241.0         -124.0               691.0   \n",
       "2           342.0            226.0         -139.0            311871.0   \n",
       "3           342.0            225.0         -140.0             30779.0   \n",
       "4           342.0            226.0         -139.0              1185.0   \n",
       "\n",
       "   conto_preventivi  \n",
       "0                 1  \n",
       "1                 1  \n",
       "2                 1  \n",
       "3                 1  \n",
       "4                 1  \n",
       "\n",
       "[5 rows x 50 columns]"
      ]
     },
     "execution_count": 19,
     "metadata": {},
     "output_type": "execute_result"
    }
   ],
   "source": [
    "df_var=df[columns_var_2]\n",
    "df_var=df_var.drop(\"labels\",axis=1)\n",
    "df_var.head()"
   ]
  },
  {
   "cell_type": "code",
   "execution_count": 20,
   "metadata": {},
   "outputs": [],
   "source": [
    "corr0 = df_var.corr()\n",
    "def plot_corr(df, size=10, cmap=plt.cm.viridis):\n",
    "    \n",
    "    fig, ax = plt.subplots(figsize=(size, size))\n",
    "    pl = ax.matshow(df,cmap=cmap)\n",
    "    plt.tick_params(labelsize=8)\n",
    "    plt.xticks(range(len(df.columns)), df.columns, rotation=90)\n",
    "    plt.yticks(range(len(df.columns)), df.columns)\n",
    "    plt.colorbar(pl)"
   ]
  },
  {
   "cell_type": "code",
   "execution_count": 21,
   "metadata": {},
   "outputs": [],
   "source": [
    "def high_corr_remover(correlation_df, ref_df, limit=0.85):\n",
    "    to_remove = []\n",
    "    correlation_df.dropna(how='all', axis=0, inplace=True)\n",
    "    correlation_df.dropna(how='all', axis=1, inplace=True)\n",
    "    \n",
    "    for col in correlation_df.columns:\n",
    "        temp = correlation_df[col].where(correlation_df[col].map(abs) >= limit).dropna().index.tolist()\n",
    "        temp.remove(col)\n",
    "        if temp != []:\n",
    "            to_remove.extend(temp)\n",
    "    \n",
    "#     to_remove.remove('labels')\n",
    "    ref_df.drop(np.unique(to_remove), axis=1, inplace=True)\n",
    "    correlation_df.drop(np.unique(to_remove), axis=1, inplace=True)\n",
    "    correlation_df.drop(np.unique(to_remove), axis=0, inplace=True)"
   ]
  },
  {
   "cell_type": "code",
   "execution_count": 22,
   "metadata": {},
   "outputs": [],
   "source": [
    "high_corr_remover(corr0, df_var)"
   ]
  },
  {
   "cell_type": "code",
   "execution_count": 23,
   "metadata": {},
   "outputs": [
    {
     "data": {
      "text/plain": [
       "(135496, 24)"
      ]
     },
     "execution_count": 23,
     "metadata": {},
     "output_type": "execute_result"
    }
   ],
   "source": [
    "df_var.shape"
   ]
  },
  {
   "cell_type": "code",
   "execution_count": null,
   "metadata": {},
   "outputs": [],
   "source": []
  },
  {
   "cell_type": "code",
   "execution_count": 24,
   "metadata": {},
   "outputs": [
    {
     "name": "stdout",
     "output_type": "stream",
     "text": [
      "['latitudine_nascita_x', 'longitudine_nascita_x', 'codice_provincia_nascita_x', 'latitudine_residenza_x', 'longitudine_residenza_x', 'codice_provincia_residenza_x', 'data_scadenza_contratto', 'codice_compagnia_assicurazione_provenienza', 'codice_marca', 'codice_modello', 'data_ultima_voltura', 'numero_potenza_kw', 'numero_cilindrata', 'importo_valore_assicurato', 'numero_chilometri_medi_annui', 'codice_classe_merito_interna', 'codice_classe_merito_esterna', 'importo_premio_cvt', 'percentuale_sconto_applicato', 'numero_incidenti', 'numero_anni_NA', 'data_emissione', 'codice_sconto_nodo', 'conto_preventivi', 'len_codice_identificativo_x', 'indicatore_guidaesperta', 'codice_tipo_targa', 'codice_ricovero_veicolo', 'distanza_ultimo_sinistro', '8K', '5N', '3059', 'nuova_immatricolazione', 'codice_stato_civile_y', 'codice_ruolo_x', 'codice_uso_principale_veicolo', 'codice_sesso_y', '3068', 'codice_stato_civile_x', '3058', '3063', 'indicatore_clausola_scelta_3679', 'codice_ruolo_y', 'indicatore_classe_agevolata', '5M', 'codice_sesso_x', '3592', '42', 'X4', '13', '01/08/2018', '3591', '01/02/2018', 'codice_titolo_studio_y', '8J', '3794', '57', 'codice_tipo_antifurto', '19', 'neo_assicurato', '3060', '8P', 'data_inizio_edizione_sconto', '5L', 'codice_titolo_studio_x', 'codice_tipo_alimentazione', 'len_codice_identificativo_y', '5E', 'indicatore_presenza_airbag', '01/08/2017']\n"
     ]
    }
   ],
   "source": [
    "#prepare dataframe \n",
    "col_tot=[]\n",
    "for col in df_var.columns.values.tolist():\n",
    "    col_tot.append(col)\n",
    "    \n",
    "for col in columns_categorical:\n",
    "    col_tot.append(col)\n",
    "    \n",
    "print(col_tot)"
   ]
  },
  {
   "cell_type": "code",
   "execution_count": 25,
   "metadata": {},
   "outputs": [
    {
     "data": {
      "text/plain": [
       "(135496, 70)"
      ]
     },
     "execution_count": 25,
     "metadata": {},
     "output_type": "execute_result"
    }
   ],
   "source": [
    "df_tot=df[col_tot]\n",
    "df_tot.shape"
   ]
  },
  {
   "cell_type": "code",
   "execution_count": 26,
   "metadata": {},
   "outputs": [],
   "source": [
    "from sklearn.model_selection import train_test_split\n",
    "y=df['labels']\n",
    "X=df_tot\n",
    "\n",
    "X_train, X_test, y_train, y_test = train_test_split(X, y, stratify=y,test_size=0.1, random_state=2)\n"
   ]
  },
  {
   "cell_type": "code",
   "execution_count": 25,
   "metadata": {},
   "outputs": [
    {
     "data": {
      "text/plain": [
       "(121946, 70)"
      ]
     },
     "execution_count": 25,
     "metadata": {},
     "output_type": "execute_result"
    }
   ],
   "source": [
    "X_train.shape"
   ]
  },
  {
   "cell_type": "code",
   "execution_count": 109,
   "metadata": {},
   "outputs": [
    {
     "data": {
      "text/plain": [
       "439"
      ]
     },
     "execution_count": 109,
     "metadata": {},
     "output_type": "execute_result"
    }
   ],
   "source": [
    "sum(y_train==1)"
   ]
  },
  {
   "cell_type": "code",
   "execution_count": 115,
   "metadata": {},
   "outputs": [
    {
     "data": {
      "text/plain": [
       "80859"
      ]
     },
     "execution_count": 115,
     "metadata": {},
     "output_type": "execute_result"
    }
   ],
   "source": [
    "sum(y_train==0)"
   ]
  },
  {
   "cell_type": "code",
   "execution_count": 116,
   "metadata": {},
   "outputs": [
    {
     "data": {
      "text/plain": [
       "73"
      ]
     },
     "execution_count": 116,
     "metadata": {},
     "output_type": "execute_result"
    }
   ],
   "source": [
    "sum(y_test==1)"
   ]
  },
  {
   "cell_type": "code",
   "execution_count": 117,
   "metadata": {},
   "outputs": [
    {
     "data": {
      "text/plain": [
       "13477"
      ]
     },
     "execution_count": 117,
     "metadata": {},
     "output_type": "execute_result"
    }
   ],
   "source": [
    "sum(y_test==0)"
   ]
  },
  {
   "cell_type": "code",
   "execution_count": 113,
   "metadata": {},
   "outputs": [
    {
     "data": {
      "text/plain": [
       "0.005387453874538746"
      ]
     },
     "execution_count": 113,
     "metadata": {},
     "output_type": "execute_result"
    }
   ],
   "source": [
    "sum(y_test==1)/y_test.shape[0]"
   ]
  },
  {
   "cell_type": "code",
   "execution_count": 120,
   "metadata": {},
   "outputs": [
    {
     "data": {
      "text/plain": [
       "0.0053998868360845284"
      ]
     },
     "execution_count": 120,
     "metadata": {},
     "output_type": "execute_result"
    }
   ],
   "source": [
    "(sum(y_train==1)/y_train.shape[0])"
   ]
  },
  {
   "cell_type": "code",
   "execution_count": 110,
   "metadata": {},
   "outputs": [
    {
     "data": {
      "text/plain": [
       "80859"
      ]
     },
     "execution_count": 110,
     "metadata": {},
     "output_type": "execute_result"
    }
   ],
   "source": [
    "sum(y_train==0)"
   ]
  },
  {
   "cell_type": "code",
   "execution_count": 27,
   "metadata": {},
   "outputs": [],
   "source": [
    "X_train, X_val, y_train, y_val = train_test_split(X_train, y_train, stratify=y_train,test_size=40648, random_state=2)"
   ]
  },
  {
   "cell_type": "code",
   "execution_count": 27,
   "metadata": {},
   "outputs": [
    {
     "data": {
      "text/plain": [
       "(81298, 70)"
      ]
     },
     "execution_count": 27,
     "metadata": {},
     "output_type": "execute_result"
    }
   ],
   "source": [
    "X_train.shape"
   ]
  },
  {
   "cell_type": "code",
   "execution_count": 28,
   "metadata": {},
   "outputs": [
    {
     "name": "stdout",
     "output_type": "stream",
     "text": [
      "[(0, 80859), (1, 80859)]\n"
     ]
    }
   ],
   "source": [
    "from imblearn.over_sampling import SMOTE \n",
    "\n",
    "sm = SMOTE(random_state=42)\n",
    "X_train_resample, y_train_resample = sm.fit_sample(X_train, y_train)\n",
    "\n",
    "print(sorted(Counter(y_train_resample).items()))"
   ]
  },
  {
   "cell_type": "code",
   "execution_count": 133,
   "metadata": {},
   "outputs": [
    {
     "data": {
      "text/plain": [
       "array([[   41.97236894,    12.43690266,    84.        , ...,\n",
       "            0.        ,     1.        ,     0.        ],\n",
       "       [   40.87799298,    14.27584136, -1000.        , ...,\n",
       "            0.        ,     1.        ,     0.        ],\n",
       "       [   41.97236894,    12.43690266,    84.        , ...,\n",
       "            0.        ,     1.        ,     0.        ],\n",
       "       ...,\n",
       "       [   38.01395256,    15.11962932,   -73.80981283, ...,\n",
       "            0.        ,     1.        ,     0.        ],\n",
       "       [   41.82741635,    13.57539766, -1000.        , ...,\n",
       "            0.        ,     1.        ,     1.4566869 ],\n",
       "       [   35.91767142,    16.66444402,    58.33841947, ...,\n",
       "            0.        ,     1.        ,     0.        ]])"
      ]
     },
     "execution_count": 133,
     "metadata": {},
     "output_type": "execute_result"
    }
   ],
   "source": [
    "X_train_resample"
   ]
  },
  {
   "cell_type": "code",
   "execution_count": 29,
   "metadata": {},
   "outputs": [
    {
     "name": "stdout",
     "output_type": "stream",
     "text": [
      "[(0, 40429), (1, 40429)]\n"
     ]
    }
   ],
   "source": [
    "sm = SMOTE(random_state=42)\n",
    "X_val_resample, y_val_resample = sm.fit_sample(X_val, y_val)\n",
    "\n",
    "print(sorted(Counter(y_val_resample).items()))"
   ]
  },
  {
   "cell_type": "code",
   "execution_count": 123,
   "metadata": {},
   "outputs": [
    {
     "data": {
      "text/plain": [
       "437.0"
      ]
     },
     "execution_count": 123,
     "metadata": {},
     "output_type": "execute_result"
    }
   ],
   "source": [
    "w=round(0.0054*sum(y_train_resample==0))\n",
    "w"
   ]
  },
  {
   "cell_type": "code",
   "execution_count": 29,
   "metadata": {},
   "outputs": [],
   "source": [
    "\n",
    "\n",
    "from sklearn.ensemble import RandomForestClassifier  \n",
    "from sklearn.model_selection import cross_val_score,GridSearchCV \n",
    "classifier = RandomForestClassifier(random_state=0,oob_score=True) \n",
    "#devo riprovare mettendo oob_score=True\n",
    "#w=round(0.0054*sum(y_train==0))\n",
    "grid_param = {  \n",
    "    'n_estimators':[500,800,1000],\n",
    "    'criterion': ['gini','entropy'],\n",
    "    \n",
    "    'bootstrap': [True]\n",
    "}\n",
    "\n",
    "\n",
    "gd_sr = GridSearchCV(estimator=classifier,  \n",
    "                     param_grid=grid_param,\n",
    "                     scoring='accuracy',\n",
    "                     cv=5,\n",
    "                     n_jobs=-1,verbose=True)"
   ]
  },
  {
   "cell_type": "code",
   "execution_count": 30,
   "metadata": {},
   "outputs": [
    {
     "name": "stdout",
     "output_type": "stream",
     "text": [
      "Fitting 5 folds for each of 6 candidates, totalling 30 fits\n"
     ]
    },
    {
     "name": "stderr",
     "output_type": "stream",
     "text": [
      "[Parallel(n_jobs=-1)]: Done  30 out of  30 | elapsed: 79.0min finished\n"
     ]
    }
   ],
   "source": [
    "fitted_model=gd_sr.fit(X_train_resample, y_train_resample)"
   ]
  },
  {
   "cell_type": "code",
   "execution_count": 31,
   "metadata": {},
   "outputs": [
    {
     "data": {
      "text/plain": [
       "RandomForestClassifier(bootstrap=True, class_weight=None, criterion='entropy',\n",
       "            max_depth=None, max_features='auto', max_leaf_nodes=None,\n",
       "            min_impurity_decrease=0.0, min_impurity_split=None,\n",
       "            min_samples_leaf=1, min_samples_split=2,\n",
       "            min_weight_fraction_leaf=0.0, n_estimators=800, n_jobs=1,\n",
       "            oob_score=True, random_state=0, verbose=0, warm_start=False)"
      ]
     },
     "execution_count": 31,
     "metadata": {},
     "output_type": "execute_result"
    }
   ],
   "source": [
    "rf=gd_sr.best_estimator_\n",
    "rf"
   ]
  },
  {
   "cell_type": "code",
   "execution_count": 32,
   "metadata": {},
   "outputs": [
    {
     "data": {
      "text/plain": [
       "RandomForestClassifier(bootstrap=True, class_weight=None, criterion='entropy',\n",
       "            max_depth=None, max_features='auto', max_leaf_nodes=None,\n",
       "            min_impurity_decrease=0.0, min_impurity_split=None,\n",
       "            min_samples_leaf=1, min_samples_split=2,\n",
       "            min_weight_fraction_leaf=0.0, n_estimators=800, n_jobs=1,\n",
       "            oob_score=True, random_state=0, verbose=0, warm_start=False)"
      ]
     },
     "execution_count": 32,
     "metadata": {},
     "output_type": "execute_result"
    }
   ],
   "source": [
    "rf.fit(X_val_resample,y_val_resample)"
   ]
  },
  {
   "cell_type": "code",
   "execution_count": 33,
   "metadata": {},
   "outputs": [
    {
     "name": "stdout",
     "output_type": "stream",
     "text": [
      "0.9973224996599018\n"
     ]
    }
   ],
   "source": [
    "print(gd_sr.best_score_)"
   ]
  },
  {
   "cell_type": "code",
   "execution_count": 34,
   "metadata": {},
   "outputs": [],
   "source": [
    "rand_best_model_pred=rf.predict(X_test)"
   ]
  },
  {
   "cell_type": "code",
   "execution_count": 35,
   "metadata": {},
   "outputs": [],
   "source": [
    "errors = abs(rand_best_model_pred - y_test)"
   ]
  },
  {
   "cell_type": "code",
   "execution_count": 36,
   "metadata": {},
   "outputs": [
    {
     "name": "stdout",
     "output_type": "stream",
     "text": [
      "Mean Absolute Error: 0.01\n"
     ]
    }
   ],
   "source": [
    "print('Mean Absolute Error:', round(np.mean(errors), 2))"
   ]
  },
  {
   "cell_type": "code",
   "execution_count": 37,
   "metadata": {},
   "outputs": [
    {
     "data": {
      "text/plain": [
       "-0.14314494201689176"
      ]
     },
     "execution_count": 37,
     "metadata": {},
     "output_type": "execute_result"
    }
   ],
   "source": [
    "r2_score(y_test,rand_best_model_pred)"
   ]
  },
  {
   "cell_type": "code",
   "execution_count": 38,
   "metadata": {},
   "outputs": [
    {
     "data": {
      "text/plain": [
       "array([[13462,    15],\n",
       "       [   68,     5]], dtype=int64)"
      ]
     },
     "execution_count": 38,
     "metadata": {},
     "output_type": "execute_result"
    }
   ],
   "source": [
    "confusion_matrix(y_test,rand_best_model_pred)"
   ]
  },
  {
   "cell_type": "code",
   "execution_count": 39,
   "metadata": {},
   "outputs": [
    {
     "data": {
      "text/plain": [
       "0.10752688172043011"
      ]
     },
     "execution_count": 39,
     "metadata": {},
     "output_type": "execute_result"
    }
   ],
   "source": [
    "f1_score(y_test,rand_best_model_pred)"
   ]
  },
  {
   "cell_type": "code",
   "execution_count": 42,
   "metadata": {},
   "outputs": [
    {
     "data": {
      "text/plain": [
       "0.9977491404684756"
      ]
     },
     "execution_count": 42,
     "metadata": {},
     "output_type": "execute_result"
    }
   ],
   "source": [
    "rf.oob_score_"
   ]
  },
  {
   "cell_type": "code",
   "execution_count": null,
   "metadata": {},
   "outputs": [],
   "source": []
  },
  {
   "cell_type": "code",
   "execution_count": 40,
   "metadata": {},
   "outputs": [],
   "source": [
    "\n",
    "from sklearn.tree import export_graphviz\n",
    "import pydot\n",
    "\n",
    "tree = rf.estimators_[5]\n",
    "\n",
    "export_graphviz(tree, out_file = 'tree.dot', feature_names = X_train.columns.values.tolist(), rounded = True, precision = 1)\n",
    "\n",
    "(graph, ) = pydot.graph_from_dot_file('tree.dot')\n",
    "# Write graph to a png file\n",
    "graph.write_png('tree.png')"
   ]
  },
  {
   "cell_type": "code",
   "execution_count": null,
   "metadata": {},
   "outputs": [],
   "source": [
    "\n",
    "rf_small = RandomForestRegressor(n_estimators=10, max_depth = 3)\n",
    "rf_small.fit(train_features, train_labels)\n",
    "\n",
    "tree_small = rf_small.estimators_[5]\n",
    "\n",
    "export_graphviz(tree_small, out_file = 'small_tree.dot', feature_names = X_train.columns.values.tolist() , rounded = True, precision = 1)\n",
    "(graph, ) = pydot.graph_from_dot_file('small_tree.dot')\n",
    "graph.write_png('small_tree.png');"
   ]
  },
  {
   "cell_type": "code",
   "execution_count": 41,
   "metadata": {},
   "outputs": [
    {
     "name": "stdout",
     "output_type": "stream",
     "text": [
      "Feature ranking:\n",
      "1. feature 18 (0.138734)\n",
      "2. feature 10 (0.064423)\n",
      "3. feature 38 (0.055816)\n",
      "4. feature 59 (0.048319)\n",
      "5. feature 31 (0.044376)\n",
      "6. feature 35 (0.042898)\n",
      "7. feature 49 (0.042251)\n",
      "8. feature 46 (0.041371)\n",
      "9. feature 43 (0.040570)\n",
      "10. feature 15 (0.040219)\n",
      "11. feature 23 (0.038409)\n",
      "12. feature 28 (0.034355)\n",
      "13. feature 34 (0.024575)\n",
      "14. feature 3 (0.020537)\n",
      "15. feature 32 (0.019806)\n",
      "16. feature 17 (0.017983)\n",
      "17. feature 69 (0.017629)\n",
      "18. feature 19 (0.016549)\n",
      "19. feature 55 (0.016083)\n",
      "20. feature 22 (0.015580)\n",
      "21. feature 7 (0.013564)\n",
      "22. feature 64 (0.013451)\n",
      "23. feature 6 (0.012506)\n",
      "24. feature 57 (0.012348)\n",
      "25. feature 20 (0.012217)\n",
      "26. feature 0 (0.012206)\n",
      "27. feature 66 (0.011119)\n",
      "28. feature 58 (0.011025)\n",
      "29. feature 9 (0.010081)\n",
      "30. feature 12 (0.009946)\n",
      "31. feature 8 (0.009599)\n",
      "32. feature 11 (0.008980)\n",
      "33. feature 13 (0.008445)\n",
      "34. feature 1 (0.008211)\n",
      "35. feature 2 (0.008055)\n",
      "36. feature 16 (0.007759)\n",
      "37. feature 5 (0.007668)\n",
      "38. feature 21 (0.007558)\n",
      "39. feature 63 (0.007072)\n",
      "40. feature 45 (0.006897)\n",
      "41. feature 4 (0.006854)\n",
      "42. feature 14 (0.006450)\n",
      "43. feature 48 (0.000829)\n",
      "44. feature 24 (0.000824)\n",
      "45. feature 30 (0.000806)\n",
      "46. feature 67 (0.000795)\n",
      "47. feature 52 (0.000794)\n",
      "48. feature 26 (0.000766)\n",
      "49. feature 54 (0.000361)\n",
      "50. feature 56 (0.000340)\n",
      "51. feature 53 (0.000301)\n",
      "52. feature 62 (0.000262)\n",
      "53. feature 50 (0.000260)\n",
      "54. feature 44 (0.000214)\n",
      "55. feature 42 (0.000213)\n",
      "56. feature 36 (0.000175)\n",
      "57. feature 60 (0.000095)\n",
      "58. feature 51 (0.000081)\n",
      "59. feature 40 (0.000080)\n",
      "60. feature 25 (0.000076)\n",
      "61. feature 27 (0.000072)\n",
      "62. feature 41 (0.000065)\n",
      "63. feature 33 (0.000031)\n",
      "64. feature 47 (0.000022)\n",
      "65. feature 37 (0.000021)\n",
      "66. feature 65 (0.000020)\n",
      "67. feature 68 (0.000003)\n",
      "68. feature 29 (0.000000)\n",
      "69. feature 39 (0.000000)\n",
      "70. feature 61 (0.000000)\n"
     ]
    },
    {
     "data": {
      "image/png": "[encoded data removed]",
      "text/plain": [
       "<Figure size 1296x1440 with 1 Axes>"
      ]
     },
     "metadata": {
      "needs_background": "light"
     },
     "output_type": "display_data"
    }
   ],
   "source": [
    "importances = rf.feature_importances_\n",
    "std = np.std([tree.feature_importances_ for tree in rf.estimators_],\n",
    "             axis=0)\n",
    "indices = np.argsort(importances)[::-1]\n",
    "\n",
    "# Print the feature ranking\n",
    "print(\"Feature ranking:\")\n",
    "\n",
    "for f in range(X_val_resample.shape[1]):\n",
    "    print(\"%d. feature %d (%f)\" % (f + 1, indices[f], importances[indices[f]]))\n",
    "\n",
    "# Plot the feature importances of the forest\n",
    "plt.figure(figsize=(18,20))\n",
    "plt.title(\"Feature importances\")\n",
    "plt.bar(range(X_val_resample.shape[1]), importances[indices],\n",
    "       color=\"r\", yerr=std[indices], align=\"center\")\n",
    "plt.xticks(range(X.shape[1]), indices)\n",
    "plt.xlim([-1, X.shape[1]])\n",
    "\n",
    "\n",
    "plt.show()\n"
   ]
  },
  {
   "cell_type": "code",
   "execution_count": 45,
   "metadata": {},
   "outputs": [
    {
     "data": {
      "text/plain": [
       "<Figure size 432x288 with 0 Axes>"
      ]
     },
     "metadata": {},
     "output_type": "display_data"
    }
   ],
   "source": [
    "plt.savefig('features_importance.png')"
   ]
  },
  {
   "cell_type": "code",
   "execution_count": 46,
   "metadata": {},
   "outputs": [
    {
     "data": {
      "text/plain": [
       "array([18, 10, 46, 56, 64, 27, 43, 15, 42, 59, 23, 45, 44,  3, 41, 17, 19,\n",
       "       22, 69, 32,  7, 20, 37,  0, 61,  6, 34, 47,  9, 12,  8, 11, 13,  2,\n",
       "       21,  1,  5, 16,  4, 14, 51, 24, 63, 58, 31, 62, 57, 25, 30, 26, 55,\n",
       "       29, 66, 50, 40, 36, 65, 38, 33, 48, 54, 60, 49, 28, 67, 35, 68, 53,\n",
       "       52, 39], dtype=int64)"
      ]
     },
     "execution_count": 46,
     "metadata": {},
     "output_type": "execute_result"
    }
   ],
   "source": [
    "indices"
   ]
  },
  {
   "cell_type": "code",
   "execution_count": 42,
   "metadata": {},
   "outputs": [],
   "source": [
    "columns_t=df_tot.columns.values.tolist()\n",
    "sorted_features_im=[]\n",
    "for i in range(len(indices)):\n",
    "    sorted_features_im.append(columns_t[indices[i]])\n",
    "    \n",
    "    \n",
    "    "
   ]
  },
  {
   "cell_type": "code",
   "execution_count": 43,
   "metadata": {},
   "outputs": [
    {
     "data": {
      "text/plain": [
       "['percentuale_sconto_applicato',\n",
       " 'data_ultima_voltura',\n",
       " 'neo_assicurato',\n",
       " 'codice_sesso_x',\n",
       " '01/02/2018',\n",
       " 'codice_titolo_studio_x',\n",
       " 'distanza_ultimo_sinistro',\n",
       " 'codice_stato_civile_x',\n",
       " '01/08/2018',\n",
       " 'codice_classe_merito_interna',\n",
       " 'conto_preventivi',\n",
       " 'indicatore_classe_agevolata',\n",
       " 'codice_tipo_alimentazione',\n",
       " 'latitudine_residenza_x',\n",
       " 'codice_ricovero_veicolo',\n",
       " 'importo_premio_cvt',\n",
       " '01/08/2017',\n",
       " 'numero_incidenti',\n",
       " 'data_inizio_edizione_sconto',\n",
       " 'codice_sconto_nodo',\n",
       " 'codice_compagnia_assicurazione_provenienza',\n",
       " 'codice_uso_principale_veicolo',\n",
       " 'data_scadenza_contratto',\n",
       " 'indicatore_clausola_scelta_3679',\n",
       " 'numero_anni_NA',\n",
       " 'latitudine_nascita_x',\n",
       " 'codice_tipo_antifurto',\n",
       " 'indicatore_guidaesperta',\n",
       " 'codice_modello',\n",
       " 'numero_cilindrata',\n",
       " 'codice_marca',\n",
       " 'numero_potenza_kw',\n",
       " 'importo_valore_assicurato',\n",
       " 'longitudine_nascita_x',\n",
       " 'codice_provincia_nascita_x',\n",
       " 'codice_classe_merito_esterna',\n",
       " 'codice_provincia_residenza_x',\n",
       " 'data_emissione',\n",
       " '19',\n",
       " '13',\n",
       " 'longitudine_residenza_x',\n",
       " 'numero_chilometri_medi_annui',\n",
       " 'codice_stato_civile_y',\n",
       " 'codice_sesso_y',\n",
       " 'codice_ruolo_y',\n",
       " 'len_codice_identificativo_y',\n",
       " 'codice_titolo_studio_y',\n",
       " 'nuova_immatricolazione',\n",
       " '3592',\n",
       " 'codice_tipo_targa',\n",
       " '3591',\n",
       " '8J',\n",
       " '8K',\n",
       " 'len_codice_identificativo_x',\n",
       " 'X4',\n",
       " '3068',\n",
       " '5L',\n",
       " '3063',\n",
       " '3058',\n",
       " '42',\n",
       " '57',\n",
       " '5E',\n",
       " '3060',\n",
       " '3059',\n",
       " '5M',\n",
       " '5N',\n",
       " 'indicatore_presenza_airbag',\n",
       " 'codice_ruolo_x',\n",
       " '8P',\n",
       " '3794']"
      ]
     },
     "execution_count": 43,
     "metadata": {},
     "output_type": "execute_result"
    }
   ],
   "source": [
    "sorted_features_im\n"
   ]
  },
  {
   "cell_type": "code",
   "execution_count": 44,
   "metadata": {},
   "outputs": [],
   "source": [
    "columns_imp_features=[]\n",
    "for i in range(len(indices)):\n",
    "    if(importances[indices[i]]>0.006):\n",
    "        columns_imp_features.append(columns_t[indices[i]])\n",
    "        "
   ]
  },
  {
   "cell_type": "code",
   "execution_count": 45,
   "metadata": {},
   "outputs": [
    {
     "data": {
      "text/plain": [
       "(81298, 42)"
      ]
     },
     "execution_count": 45,
     "metadata": {},
     "output_type": "execute_result"
    }
   ],
   "source": [
    "df_tr=X_train[columns_imp_features]\n",
    "df_tr.shape"
   ]
  },
  {
   "cell_type": "code",
   "execution_count": 63,
   "metadata": {},
   "outputs": [
    {
     "data": {
      "text/plain": [
       "(161718, 70)"
      ]
     },
     "execution_count": 63,
     "metadata": {},
     "output_type": "execute_result"
    }
   ],
   "source": [
    "X_train_resample.shape"
   ]
  },
  {
   "cell_type": "code",
   "execution_count": 62,
   "metadata": {},
   "outputs": [
    {
     "data": {
      "text/plain": [
       "(161718, 41)"
      ]
     },
     "execution_count": 62,
     "metadata": {},
     "output_type": "execute_result"
    }
   ],
   "source": [
    "X_train_new.shape"
   ]
  },
  {
   "cell_type": "code",
   "execution_count": 57,
   "metadata": {},
   "outputs": [
    {
     "data": {
      "text/plain": [
       "161718"
      ]
     },
     "execution_count": 57,
     "metadata": {},
     "output_type": "execute_result"
    }
   ],
   "source": [
    "X_train_resample.shape[0]"
   ]
  },
  {
   "cell_type": "code",
   "execution_count": 46,
   "metadata": {},
   "outputs": [],
   "source": [
    "X_train_new=np.zeros((X_train_resample.shape[0],len(columns_imp_features)))\n",
    "                     \n",
    "for k in range(X_train_resample.shape[0]):\n",
    "    for j in range(len(columns_imp_features)):\n",
    "        X_train_new[k][j]=X_train_resample[k][indices[j]]\n",
    "       "
   ]
  },
  {
   "cell_type": "code",
   "execution_count": 47,
   "metadata": {},
   "outputs": [],
   "source": [
    "X_val_new=np.zeros((X_val_resample.shape[0],len(columns_imp_features)))\n",
    "for k in range(X_val_resample.shape[0]):\n",
    "    for j in range(len(columns_imp_features)):\n",
    "        X_val_new[k][j]=X_val_resample[k][indices[j]]\n"
   ]
  },
  {
   "cell_type": "code",
   "execution_count": 48,
   "metadata": {},
   "outputs": [],
   "source": [
    "X_test_new=np.zeros((X_test.shape[0],len(columns_imp_features)))\n",
    "X_test_ar=X_test.values\n",
    "for k in range(X_test.shape[0]):\n",
    "    for j in range(len(columns_imp_features)):\n",
    "        X_test_new[k][j]=X_test_ar[k][indices[j]]\n",
    "\n"
   ]
  },
  {
   "cell_type": "code",
   "execution_count": 51,
   "metadata": {},
   "outputs": [
    {
     "data": {
      "text/plain": [
       "(13550, 70)"
      ]
     },
     "execution_count": 51,
     "metadata": {},
     "output_type": "execute_result"
    }
   ],
   "source": [
    "X_test.shape"
   ]
  },
  {
   "cell_type": "code",
   "execution_count": 49,
   "metadata": {},
   "outputs": [],
   "source": [
    "from sklearn.pipeline import Pipeline\n",
    "from sklearn.linear_model import LogisticRegression\n",
    "pipe = Pipeline([('classifier' , LogisticRegression(random_state=42))])\n",
    "\n",
    "\n",
    "param_grid = [\n",
    "    {'classifier' : [LogisticRegression(random_state=42)],\n",
    "     'classifier__penalty' : ['l1', 'l2'],\n",
    "    'classifier__C' : np.logspace(-4, 4, 20),\n",
    "    'classifier__solver' : ['liblinear']}]\n",
    "\n",
    "clf = GridSearchCV(pipe,param_grid = param_grid, cv = 5, verbose=True, n_jobs=-1)\n"
   ]
  },
  {
   "cell_type": "code",
   "execution_count": 76,
   "metadata": {},
   "outputs": [
    {
     "name": "stdout",
     "output_type": "stream",
     "text": [
      "Fitting 5 folds for each of 40 candidates, totalling 200 fits\n"
     ]
    },
    {
     "name": "stderr",
     "output_type": "stream",
     "text": [
      "[Parallel(n_jobs=-1)]: Done  42 tasks      | elapsed:  9.0min\n",
      "[Parallel(n_jobs=-1)]: Done 192 tasks      | elapsed: 103.7min\n",
      "[Parallel(n_jobs=-1)]: Done 200 out of 200 | elapsed: 106.5min finished\n"
     ]
    }
   ],
   "source": [
    "fitted_model_logistic=clf.fit(X_train_new, y_train_resample)"
   ]
  },
  {
   "cell_type": "code",
   "execution_count": 78,
   "metadata": {},
   "outputs": [
    {
     "data": {
      "text/plain": [
       "Pipeline(memory=None,\n",
       "     steps=[('classifier', LogisticRegression(C=11.288378916846883, class_weight=None, dual=False,\n",
       "          fit_intercept=True, intercept_scaling=1, max_iter=100,\n",
       "          multi_class='ovr', n_jobs=1, penalty='l1', random_state=42,\n",
       "          solver='liblinear', tol=0.0001, verbose=0, warm_start=False))])"
      ]
     },
     "execution_count": 78,
     "metadata": {},
     "output_type": "execute_result"
    }
   ],
   "source": [
    "best_model=clf.best_estimator_\n",
    "best_model"
   ]
  },
  {
   "cell_type": "code",
   "execution_count": 79,
   "metadata": {},
   "outputs": [
    {
     "data": {
      "text/plain": [
       "0.8003438083577585"
      ]
     },
     "execution_count": 79,
     "metadata": {},
     "output_type": "execute_result"
    }
   ],
   "source": [
    "clf.best_score_"
   ]
  },
  {
   "cell_type": "code",
   "execution_count": 80,
   "metadata": {},
   "outputs": [],
   "source": [
    "best_model=LogisticRegression(C=11.288378916846883, class_weight=None, dual=False,\n",
    "          fit_intercept=True, intercept_scaling=1, max_iter=100,\n",
    "          multi_class='ovr', n_jobs=1, penalty='l1', random_state=42,\n",
    "          solver='liblinear', tol=0.0001, verbose=0, warm_start=False)"
   ]
  },
  {
   "cell_type": "code",
   "execution_count": 81,
   "metadata": {},
   "outputs": [
    {
     "data": {
      "text/plain": [
       "LogisticRegression(C=11.288378916846883, class_weight=None, dual=False,\n",
       "          fit_intercept=True, intercept_scaling=1, max_iter=100,\n",
       "          multi_class='ovr', n_jobs=1, penalty='l1', random_state=42,\n",
       "          solver='liblinear', tol=0.0001, verbose=0, warm_start=False)"
      ]
     },
     "execution_count": 81,
     "metadata": {},
     "output_type": "execute_result"
    }
   ],
   "source": [
    "best_model.fit(X_val_new,y_val_resample)"
   ]
  },
  {
   "cell_type": "code",
   "execution_count": 84,
   "metadata": {},
   "outputs": [],
   "source": [
    "prediction_logistic=best_model.predict(X_test_new)"
   ]
  },
  {
   "cell_type": "code",
   "execution_count": 85,
   "metadata": {},
   "outputs": [],
   "source": [
    "errors = abs(prediction_logistic - y_test)"
   ]
  },
  {
   "cell_type": "code",
   "execution_count": 86,
   "metadata": {},
   "outputs": [
    {
     "name": "stdout",
     "output_type": "stream",
     "text": [
      "Mean Absolute Error: 0.15\n"
     ]
    }
   ],
   "source": [
    "print('Mean Absolute Error:', round(np.mean(errors), 2))"
   ]
  },
  {
   "cell_type": "code",
   "execution_count": 87,
   "metadata": {},
   "outputs": [
    {
     "data": {
      "text/plain": [
       "array([[11519,  1958],\n",
       "       [   33,    40]], dtype=int64)"
      ]
     },
     "execution_count": 87,
     "metadata": {},
     "output_type": "execute_result"
    }
   ],
   "source": [
    "confusion_matrix(y_test,prediction_logistic)"
   ]
  },
  {
   "cell_type": "code",
   "execution_count": 88,
   "metadata": {},
   "outputs": [
    {
     "data": {
      "text/plain": [
       "0.03862868179623371"
      ]
     },
     "execution_count": 88,
     "metadata": {},
     "output_type": "execute_result"
    }
   ],
   "source": [
    "f1_score(y_test,prediction_logistic)"
   ]
  },
  {
   "cell_type": "code",
   "execution_count": 91,
   "metadata": {},
   "outputs": [
    {
     "data": {
      "text/plain": [
       "-26.421705777778694"
      ]
     },
     "execution_count": 91,
     "metadata": {},
     "output_type": "execute_result"
    }
   ],
   "source": [
    "r2_score(y_test,prediction_logistic)"
   ]
  },
  {
   "cell_type": "code",
   "execution_count": 93,
   "metadata": {},
   "outputs": [
    {
     "name": "stdout",
     "output_type": "stream",
     "text": [
      "AUC: 0.701\n"
     ]
    }
   ],
   "source": [
    "from sklearn.metrics import roc_curve\n",
    "from sklearn.metrics import roc_auc_score\n",
    "auc = roc_auc_score(y_test,prediction_logistic )\n",
    "print('AUC: %.3f' % auc)"
   ]
  },
  {
   "cell_type": "code",
   "execution_count": 104,
   "metadata": {},
   "outputs": [
    {
     "data": {
      "image/png": "[encoded data removed]",
      "text/plain": [
       "<Figure size 432x288 with 1 Axes>"
      ]
     },
     "metadata": {
      "needs_background": "light"
     },
     "output_type": "display_data"
    }
   ],
   "source": [
    "fpr, tpr, thresholds = roc_curve(y_test,prediction_logistic )\n",
    "\n",
    "plt.plot([0, 1], [0, 1], linestyle='--')\n",
    "\n",
    "plt.plot(fpr, tpr, marker='.')\n",
    "\n",
    "plt.show()"
   ]
  },
  {
   "cell_type": "code",
   "execution_count": 106,
   "metadata": {},
   "outputs": [
    {
     "data": {
      "text/plain": [
       "array([0.        , 0.14528456, 1.        ])"
      ]
     },
     "execution_count": 106,
     "metadata": {},
     "output_type": "execute_result"
    }
   ],
   "source": [
    "fpr"
   ]
  },
  {
   "cell_type": "code",
   "execution_count": 138,
   "metadata": {},
   "outputs": [
    {
     "data": {
      "text/plain": [
       "(161718, 41)"
      ]
     },
     "execution_count": 138,
     "metadata": {},
     "output_type": "execute_result"
    }
   ],
   "source": [
    "X_train_new.shape"
   ]
  },
  {
   "cell_type": "code",
   "execution_count": 54,
   "metadata": {},
   "outputs": [
    {
     "data": {
      "text/plain": [
       "(80858, 42)"
      ]
     },
     "execution_count": 54,
     "metadata": {},
     "output_type": "execute_result"
    }
   ],
   "source": [
    "X_val_new.shape"
   ]
  },
  {
   "cell_type": "code",
   "execution_count": 53,
   "metadata": {},
   "outputs": [
    {
     "data": {
      "text/plain": [
       "(242576, 42)"
      ]
     },
     "execution_count": 53,
     "metadata": {},
     "output_type": "execute_result"
    }
   ],
   "source": [
    "X_t.shape"
   ]
  },
  {
   "cell_type": "code",
   "execution_count": 50,
   "metadata": {},
   "outputs": [],
   "source": [
    "X_t=np.concatenate((X_train_new,X_val_new),axis=0)"
   ]
  },
  {
   "cell_type": "code",
   "execution_count": 51,
   "metadata": {},
   "outputs": [],
   "source": [
    "standard_scaler = preprocessing.StandardScaler()\n",
    "X_scaled = standard_scaler.fit_transform(X_t)"
   ]
  },
  {
   "cell_type": "code",
   "execution_count": 52,
   "metadata": {},
   "outputs": [
    {
     "data": {
      "text/plain": [
       "(161718, 42)"
      ]
     },
     "execution_count": 52,
     "metadata": {},
     "output_type": "execute_result"
    }
   ],
   "source": [
    "X_train_scal=X_scaled[:X_train_new.shape[0],:]\n",
    "X_train_scal.shape"
   ]
  },
  {
   "cell_type": "code",
   "execution_count": 55,
   "metadata": {},
   "outputs": [
    {
     "data": {
      "text/plain": [
       "(80858, 41)"
      ]
     },
     "execution_count": 55,
     "metadata": {},
     "output_type": "execute_result"
    }
   ],
   "source": [
    "X_val_scal=X_scaled[X_train_new.shape[0]:,:]\n",
    "X_val_scal.shape"
   ]
  },
  {
   "cell_type": "code",
   "execution_count": null,
   "metadata": {},
   "outputs": [
    {
     "name": "stdout",
     "output_type": "stream",
     "text": [
      "Fitting 5 folds for each of 72 candidates, totalling 360 fits\n"
     ]
    }
   ],
   "source": [
    "from sklearn.svm import SVC\n",
    "svm = SVC()\n",
    "C_range = np.logspace(-2, 10, 6)\n",
    "gamma_range = np.logspace(-9, 3, 6)\n",
    "parameters = {'kernel':('linear', 'rbf'), 'C':C_range,'gamma': gamma_range}\n",
    "clf_svm = GridSearchCV(svm, parameters,cv = 5, verbose=True, n_jobs=-1)\n",
    "clf_svm.fit(X_train_scal,y_train_resample)\n"
   ]
  },
  {
   "cell_type": "code",
   "execution_count": 42,
   "metadata": {},
   "outputs": [],
   "source": [
    "best_model_svm=clf_svm.best_estimator_\n",
    "best_model_svm.fit(X_val_scal,y_val_resample)"
   ]
  },
  {
   "cell_type": "code",
   "execution_count": 30,
   "metadata": {},
   "outputs": [],
   "source": [
    "from sklearn.ensemble import RandomForestClassifier  \n",
    "from sklearn.model_selection import cross_val_score,GridSearchCV \n",
    "model_rf=RandomForestClassifier(bootstrap=True, class_weight=None, criterion='entropy',\n",
    "            max_depth=None, max_features='auto', max_leaf_nodes=None,\n",
    "            min_impurity_decrease=0.0, min_impurity_split=None,\n",
    "            min_samples_leaf=1, min_samples_split=2,\n",
    "            min_weight_fraction_leaf=0.0, n_estimators=800, n_jobs=1,\n",
    "            oob_score=True, random_state=0, verbose=0, warm_start=False)"
   ]
  },
  {
   "cell_type": "code",
   "execution_count": 31,
   "metadata": {},
   "outputs": [
    {
     "data": {
      "text/plain": [
       "RandomForestClassifier(bootstrap=True, class_weight=None, criterion='entropy',\n",
       "            max_depth=None, max_features='auto', max_leaf_nodes=None,\n",
       "            min_impurity_decrease=0.0, min_impurity_split=None,\n",
       "            min_samples_leaf=1, min_samples_split=2,\n",
       "            min_weight_fraction_leaf=0.0, n_estimators=800, n_jobs=1,\n",
       "            oob_score=True, random_state=0, verbose=0, warm_start=False)"
      ]
     },
     "execution_count": 31,
     "metadata": {},
     "output_type": "execute_result"
    }
   ],
   "source": [
    "model_rf.fit(X_val_resample,y_val_resample)"
   ]
  },
  {
   "cell_type": "code",
   "execution_count": 33,
   "metadata": {},
   "outputs": [],
   "source": [
    "prediction_rf_no_cv=model_rf.predict(X_test)"
   ]
  },
  {
   "cell_type": "markdown",
   "metadata": {},
   "source": [
    "*random forest for features selection and svm classifier*"
   ]
  },
  {
   "cell_type": "code",
   "execution_count": 36,
   "metadata": {},
   "outputs": [
    {
     "name": "stdout",
     "output_type": "stream",
     "text": [
      "Feature ranking:\n",
      "1. feature 18 (0.140402)\n",
      "2. feature 10 (0.061209)\n",
      "3. feature 59 (0.057518)\n",
      "4. feature 45 (0.050281)\n",
      "5. feature 28 (0.045353)\n",
      "6. feature 50 (0.044357)\n",
      "7. feature 52 (0.044032)\n",
      "8. feature 64 (0.042393)\n",
      "9. feature 38 (0.041499)\n",
      "10. feature 15 (0.038751)\n",
      "11. feature 23 (0.036191)\n",
      "12. feature 43 (0.030717)\n",
      "13. feature 65 (0.023960)\n",
      "14. feature 3 (0.020055)\n",
      "15. feature 27 (0.019628)\n",
      "16. feature 17 (0.018813)\n",
      "17. feature 69 (0.016990)\n",
      "18. feature 19 (0.016939)\n",
      "19. feature 62 (0.016332)\n",
      "20. feature 22 (0.015739)\n",
      "21. feature 35 (0.013490)\n",
      "22. feature 7 (0.012851)\n",
      "23. feature 0 (0.012558)\n",
      "24. feature 25 (0.012422)\n",
      "25. feature 20 (0.012275)\n",
      "26. feature 6 (0.011977)\n",
      "27. feature 57 (0.011832)\n",
      "28. feature 41 (0.011797)\n",
      "29. feature 9 (0.010435)\n",
      "30. feature 8 (0.010048)\n",
      "31. feature 12 (0.010012)\n",
      "32. feature 11 (0.009037)\n",
      "33. feature 13 (0.008446)\n",
      "34. feature 2 (0.008069)\n",
      "35. feature 1 (0.008066)\n",
      "36. feature 5 (0.007478)\n",
      "37. feature 21 (0.007401)\n",
      "38. feature 16 (0.007074)\n",
      "39. feature 4 (0.006831)\n",
      "40. feature 14 (0.006490)\n",
      "41. feature 58 (0.006480)\n",
      "42. feature 49 (0.006464)\n",
      "43. feature 32 (0.000887)\n",
      "44. feature 53 (0.000845)\n",
      "45. feature 33 (0.000818)\n",
      "46. feature 66 (0.000790)\n",
      "47. feature 36 (0.000767)\n",
      "48. feature 42 (0.000721)\n",
      "49. feature 26 (0.000333)\n",
      "50. feature 46 (0.000318)\n",
      "51. feature 51 (0.000297)\n",
      "52. feature 54 (0.000268)\n",
      "53. feature 29 (0.000242)\n",
      "54. feature 24 (0.000183)\n",
      "55. feature 37 (0.000173)\n",
      "56. feature 48 (0.000155)\n",
      "57. feature 67 (0.000084)\n",
      "58. feature 39 (0.000073)\n",
      "59. feature 47 (0.000066)\n",
      "60. feature 40 (0.000064)\n",
      "61. feature 56 (0.000063)\n",
      "62. feature 63 (0.000050)\n",
      "63. feature 44 (0.000035)\n",
      "64. feature 31 (0.000032)\n",
      "65. feature 60 (0.000029)\n",
      "66. feature 30 (0.000010)\n",
      "67. feature 68 (0.000003)\n",
      "68. feature 34 (0.000000)\n",
      "69. feature 61 (0.000000)\n",
      "70. feature 55 (0.000000)\n"
     ]
    },
    {
     "data": {
      "image/png": "[encoded data removed]",
      "text/plain": [
       "<Figure size 1296x1440 with 1 Axes>"
      ]
     },
     "metadata": {
      "needs_background": "light"
     },
     "output_type": "display_data"
    }
   ],
   "source": [
    "importances =model_rf.feature_importances_\n",
    "std = np.std([tree.feature_importances_ for tree in model_rf.estimators_],\n",
    "             axis=0)\n",
    "indices = np.argsort(importances)[::-1]\n",
    "\n",
    "# Print the feature ranking\n",
    "print(\"Feature ranking:\")\n",
    "\n",
    "for f in range(X_val_resample.shape[1]):\n",
    "    print(\"%d. feature %d (%f)\" % (f + 1, indices[f], importances[indices[f]]))\n",
    "\n",
    "# Plot the feature importances of the forest\n",
    "plt.figure(figsize=(18,20))\n",
    "plt.title(\"Feature importances\")\n",
    "plt.bar(range(X_val_resample.shape[1]), importances[indices],\n",
    "       color=\"r\", yerr=std[indices], align=\"center\")\n",
    "plt.xticks(range(X_val_resample.shape[1]), indices)\n",
    "plt.xlim([-1, X.shape[1]])\n",
    "\n",
    "\n",
    "plt.show()\n"
   ]
  },
  {
   "cell_type": "code",
   "execution_count": 37,
   "metadata": {},
   "outputs": [],
   "source": [
    "columns_t=df_tot.columns.values.tolist()\n",
    "sorted_features_im=[]\n",
    "for i in range(len(indices)):\n",
    "    sorted_features_im.append(columns_t[indices[i]])\n",
    "    \n",
    "    "
   ]
  },
  {
   "cell_type": "code",
   "execution_count": 38,
   "metadata": {},
   "outputs": [],
   "source": [
    "columns_imp_features=[]\n",
    "for i in range(len(indices)):\n",
    "    if(importances[indices[i]]>0.006):\n",
    "        columns_imp_features.append(columns_t[indices[i]])\n",
    "        "
   ]
  },
  {
   "cell_type": "code",
   "execution_count": 39,
   "metadata": {},
   "outputs": [],
   "source": [
    "X_train_new=np.zeros((X_train_resample.shape[0],len(columns_imp_features)))\n",
    "                     \n",
    "for k in range(X_train_resample.shape[0]):\n",
    "    for j in range(len(columns_imp_features)):\n",
    "        X_train_new[k][j]=X_train_resample[k][indices[j]]\n",
    "       "
   ]
  },
  {
   "cell_type": "code",
   "execution_count": 40,
   "metadata": {},
   "outputs": [],
   "source": [
    "X_val_new=np.zeros((X_val_resample.shape[0],len(columns_imp_features)))\n",
    "for k in range(X_val_resample.shape[0]):\n",
    "    for j in range(len(columns_imp_features)):\n",
    "        X_val_new[k][j]=X_val_resample[k][indices[j]]\n"
   ]
  },
  {
   "cell_type": "code",
   "execution_count": 41,
   "metadata": {},
   "outputs": [],
   "source": [
    "X_t=np.concatenate((X_train_new,X_val_new),axis=0)\n",
    "standard_scaler = preprocessing.StandardScaler()\n",
    "X_scaled = standard_scaler.fit_transform(X_t)\n"
   ]
  },
  {
   "cell_type": "code",
   "execution_count": 42,
   "metadata": {},
   "outputs": [
    {
     "data": {
      "text/plain": [
       "(161718, 42)"
      ]
     },
     "execution_count": 42,
     "metadata": {},
     "output_type": "execute_result"
    }
   ],
   "source": [
    "X_train_scal=X_scaled[:X_train_new.shape[0],:]\n",
    "X_train_scal.shape"
   ]
  },
  {
   "cell_type": "code",
   "execution_count": 43,
   "metadata": {},
   "outputs": [
    {
     "data": {
      "text/plain": [
       "(80858, 42)"
      ]
     },
     "execution_count": 43,
     "metadata": {},
     "output_type": "execute_result"
    }
   ],
   "source": [
    "X_val_scal=X_scaled[X_train_new.shape[0]:,:]\n",
    "X_val_scal.shape"
   ]
  },
  {
   "cell_type": "code",
   "execution_count": null,
   "metadata": {},
   "outputs": [
    {
     "name": "stdout",
     "output_type": "stream",
     "text": [
      "Fitting 3 folds for each of 36 candidates, totalling 108 fits\n"
     ]
    }
   ],
   "source": [
    "from sklearn.svm import SVC\n",
    "svm = SVC()\n",
    "C_range = np.logspace(-2, 10, 6)\n",
    "gamma_range = np.logspace(-9, 3, 6)\n",
    "parameters = {'gamma': gamma_range,'C':C_range}\n",
    "clf_svm = GridSearchCV(svm, parameters, verbose=True, n_jobs=-1)\n",
    "clf_svm.fit(X_train_scal,y_train_resample)\n"
   ]
  }
 ],
 "metadata": {
  "kernelspec": {
   "display_name": "Python 3",
   "language": "python",
   "name": "python3"
  },
  "language_info": {
   "codemirror_mode": {
    "name": "ipython",
    "version": 3
   },
   "file_extension": ".py",
   "mimetype": "text/x-python",
   "name": "python",
   "nbconvert_exporter": "python",
   "pygments_lexer": "ipython3",
   "version": "3.7.3"
  }
 },
 "nbformat": 4,
 "nbformat_minor": 2
}
